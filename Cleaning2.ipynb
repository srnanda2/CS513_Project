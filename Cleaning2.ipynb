{
 "cells": [
  {
   "cell_type": "code",
   "execution_count": 61,
   "id": "729ebcd3-61d7-465d-ac33-676296d2ff04",
   "metadata": {},
   "outputs": [],
   "source": [
    "import pandas as pd\n",
    "import numpy as np\n",
    "\n",
    "# Corrected paths with raw strings or double backslashes\n",
    "menu_item_df = pd.read_csv(r'C:\\Users\\Soumya Nanda\\NYPL-menus\\MenuItem.csv')\n",
    "dish_df = pd.read_csv(r'C:\\Users\\Soumya Nanda\\NYPL-menus\\OpenRefine\\NYPL-Dish.csv')\n",
    "menu_df = pd.read_csv(r'C:\\Users\\Soumya Nanda\\NYPL-menus\\OpenRefine\\NYPL-Menu.csv')\n",
    "menu_page_df = pd.read_csv(r'C:\\Users\\Soumya Nanda\\NYPL-menus\\OpenRefine\\NYPL-MenuPage.csv')\n"
   ]
  },
  {
   "cell_type": "code",
   "execution_count": 62,
   "id": "78580b7b-88aa-4169-adef-d7990dc0f8ae",
   "metadata": {},
   "outputs": [],
   "source": [
    "valid_menu_ids = menu_df['id'].unique()\n",
    "menu_page_df = menu_page_df[menu_page_df['menu_id'].isin(valid_menu_ids)]\n",
    "\n",
    "menu_page_df.to_csv(r'C:\\Users\\Soumya Nanda\\NYPL-menus\\OpenRefine\\NYPL-MenuPage.csv', index=False)"
   ]
  },
  {
   "cell_type": "code",
   "execution_count": 63,
   "id": "900760eb-216c-45fd-8aca-719c8f15801b",
   "metadata": {},
   "outputs": [],
   "source": [
    "# Step 1: Ensure that menu_page_id and dish_id are not null\n",
    "menu_item_df = menu_item_df.dropna(subset=['menu_page_id', 'dish_id'])\n",
    "\n",
    "# Step 2: Ensure that menu_page_id and dish_id exist in their respective tables\n",
    "menu_item_df = menu_item_df[menu_item_df['menu_page_id'].isin(menu_page_df['id'])]\n",
    "menu_item_df = menu_item_df[menu_item_df['dish_id'].isin(dish_df['id'])]\n",
    "\n",
    "# Step 3: Ensure price and high_price are numeric and non-negative\n",
    "menu_item_df['price'] = pd.to_numeric(menu_item_df['price'], errors='coerce').fillna(0)\n",
    "menu_item_df['high_price'] = pd.to_numeric(menu_item_df['high_price'], errors='coerce').fillna(menu_item_df['price'])\n",
    "menu_item_df = menu_item_df[(menu_item_df['price'] >= 0) & (menu_item_df['high_price'] >= 0)]\n",
    "\n",
    "# Step 4: Check for duplicates and remove them\n",
    "menu_item_df = menu_item_df.drop_duplicates()\n"
   ]
  },
  {
   "cell_type": "code",
   "execution_count": 64,
   "id": "bbb52659-1fc4-4793-b306-2c6264b33284",
   "metadata": {},
   "outputs": [],
   "source": [
    "# Step 5: Remove rows in dish_df with invalid 'first_appeared' and 'last_appeared'\n",
    "dish_df = dish_df[(dish_df['first_appeared'] >= 1851) & (dish_df['last_appeared'] <= 2024)]\n",
    "\n",
    "# Step 6: Merge menu_item_df with menu_page_df to get menu_id\n",
    "menu_item_df = pd.merge(menu_item_df, menu_page_df[['id', 'menu_id']], left_on='menu_page_id', right_on='id', how='left', suffixes=('', '_page'))\n",
    "menu_item_df = menu_item_df.rename(columns={'menu_id': 'menu_id_from_page'})\n",
    "\n",
    "# Step 7: Merge the result with menu_df to get the date\n",
    "menu_item_df = pd.merge(menu_item_df, menu_df[['id', 'date']], left_on='menu_id_from_page', right_on='id', how='left', suffixes=('', '_menu'))\n",
    "menu_item_df = menu_item_df.rename(columns={'date': 'menu_date'})\n",
    "\n",
    "# Step 8: Extract the year from the date and convert it to numeric\n",
    "menu_item_df['date'] = menu_item_df['menu_date'].str[:4].astype(float)\n",
    "\n",
    "# Step 9: Remove rows with NaN values in the date and keep dates within 1851 to 2024\n",
    "menu_item_df = menu_item_df.dropna(subset=['date'])\n",
    "menu_item_df = menu_item_df[(menu_item_df['date'] >= 1851) & (menu_item_df['date'] <= 2024)]\n",
    "\n",
    "# Step 10: Ensure menu_item_df only contains dish_id values that exist in dish_df\n",
    "valid_dish_ids = dish_df['id'].unique()\n",
    "menu_item_df = menu_item_df[menu_item_df['dish_id'].isin(valid_dish_ids)]\n",
    "\n",
    "# Step 11: Remove rows where price and high_price values are zero\n",
    "menu_item_df = menu_item_df[(menu_item_df['price'] > 0) & (menu_item_df['high_price'] > 0)]\n",
    "\n",
    "# Step 12: Add a column for dish_name using dish_id and id from dish_df\n",
    "menu_item_df = pd.merge(menu_item_df, dish_df[['id', 'name']], left_on='dish_id', right_on='id', how='left', suffixes=('', '_dish'))\n",
    "menu_item_df = menu_item_df.rename(columns={'name': 'dish_name'})"
   ]
  },
  {
   "cell_type": "code",
   "execution_count": 65,
   "id": "238f8b36-2992-4692-bf82-ca504d9b85ef",
   "metadata": {},
   "outputs": [
    {
     "name": "stdout",
     "output_type": "stream",
     "text": [
      "Cleaned Dish DataFrame:\n",
      "   id                    name  description  menus_appeared  times_appeared  \\\n",
      "0   2           Chicken gumbo          NaN             111             117   \n",
      "1   3     Tomato aux croutons          NaN              13              13   \n",
      "2   4         Onion au gratin          NaN              41              41   \n",
      "3   5             St. Emilion          NaN              66              68   \n",
      "4   8  Chicken soup with rice          NaN              48              49   \n",
      "\n",
      "   first_appeared  last_appeared  lowest_price  highest_price  \n",
      "0            1895           1960          0.10            0.8  \n",
      "1            1893           1917          0.25            0.4  \n",
      "2            1900           1971          0.25            1.0  \n",
      "3            1881           1981          0.00           18.0  \n",
      "4            1897           1961          0.10            0.6  \n",
      "\n",
      "Cleaned MenuItem DataFrame with Date (Year):\n",
      "   id  menu_page_id  price  high_price  dish_id               created_at  \\\n",
      "0   2          1389   0.60        0.60      2.0  2011-03-28 15:01:13 UTC   \n",
      "1   3          1389   0.40        0.40      3.0  2011-03-28 15:01:40 UTC   \n",
      "2   4          1389   0.50        0.50      4.0  2011-03-28 15:01:51 UTC   \n",
      "3   5          3079   0.50        1.00      5.0  2011-03-28 15:21:26 UTC   \n",
      "4   8          1389   0.25        0.25      9.0  2011-03-28 19:33:37 UTC   \n",
      "\n",
      "                updated_at      xpos      ypos  id_page  menu_id_from_page  \\\n",
      "0  2011-04-19 15:00:54 UTC  0.438571  0.254735     1389              12882   \n",
      "1  2011-04-19 19:10:05 UTC  0.140000  0.261922     1389              12882   \n",
      "2  2011-04-19 19:07:01 UTC  0.377143  0.262720     1389              12882   \n",
      "3  2011-04-13 15:25:27 UTC  0.105714  0.313178     3079              13472   \n",
      "4  2011-04-19 19:06:08 UTC  0.167143  0.273101     1389              12882   \n",
      "\n",
      "   id_menu             menu_date    date  id_dish            dish_name  \n",
      "0    12882  1900-04-09T00:00:00Z  1900.0        2        Chicken gumbo  \n",
      "1    12882  1900-04-09T00:00:00Z  1900.0        3  Tomato aux croutons  \n",
      "2    12882  1900-04-09T00:00:00Z  1900.0        4      Onion au gratin  \n",
      "3    13472  1900-05-21T00:00:00Z  1900.0        5          St. Emilion  \n",
      "4    12882  1900-04-09T00:00:00Z  1900.0        9     Clam broth (cup)  \n"
     ]
    }
   ],
   "source": [
    "# Display the cleaned DataFrames\n",
    "print(\"Cleaned Dish DataFrame:\")\n",
    "print(dish_df.head())\n",
    "print(\"\\nCleaned MenuItem DataFrame with Date (Year):\")\n",
    "print(menu_item_df.head())\n",
    "\n",
    "# Save the cleaned DataFrames\n",
    "dish_df.to_csv(r'C:\\Users\\Soumya Nanda\\NYPL-menus\\OpenRefine\\NYPL-Dish.csv', index=False)\n",
    "menu_item_df.to_csv(r'C:\\Users\\Soumya Nanda\\NYPL-menus\\OpenRefine\\NYPL-MenuItem.csv', index=False)"
   ]
  },
  {
   "cell_type": "code",
   "execution_count": null,
   "id": "56e3ac38-54e5-4d90-b1d8-792e010081be",
   "metadata": {},
   "outputs": [],
   "source": []
  }
 ],
 "metadata": {
  "kernelspec": {
   "display_name": "Python 3 (ipykernel)",
   "language": "python",
   "name": "python3"
  },
  "language_info": {
   "codemirror_mode": {
    "name": "ipython",
    "version": 3
   },
   "file_extension": ".py",
   "mimetype": "text/x-python",
   "name": "python",
   "nbconvert_exporter": "python",
   "pygments_lexer": "ipython3",
   "version": "3.11.7"
  }
 },
 "nbformat": 4,
 "nbformat_minor": 5
}
